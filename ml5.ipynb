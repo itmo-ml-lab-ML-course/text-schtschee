{
  "nbformat": 4,
  "nbformat_minor": 0,
  "metadata": {
    "colab": {
      "provenance": []
    },
    "kernelspec": {
      "name": "python3",
      "display_name": "Python 3"
    },
    "language_info": {
      "name": "python"
    }
  },
  "cells": [
    {
      "cell_type": "markdown",
      "source": [
        "Будем пытаться научить модель предсказывать по тексту комментария рейтинг который пользователь поставил вину."
      ],
      "metadata": {
        "id": "6KpfDQ-bNEVl"
      }
    },
    {
      "cell_type": "code",
      "source": [
        "!pip install validators"
      ],
      "metadata": {
        "colab": {
          "base_uri": "https://localhost:8080/"
        },
        "id": "_acvu_UmSDB3",
        "outputId": "e07cd5f4-3e8b-4b5a-fccf-a583a613ac87"
      },
      "execution_count": 193,
      "outputs": [
        {
          "output_type": "stream",
          "name": "stdout",
          "text": [
            "Requirement already satisfied: validators in /usr/local/lib/python3.10/dist-packages (0.22.0)\n"
          ]
        }
      ]
    },
    {
      "cell_type": "code",
      "execution_count": 194,
      "metadata": {
        "id": "-HwPXhpc4Zgl",
        "colab": {
          "base_uri": "https://localhost:8080/",
          "height": 423
        },
        "outputId": "75a9cc71-5a00-4519-e499-7b60c858f3e6"
      },
      "outputs": [
        {
          "output_type": "execute_result",
          "data": {
            "text/plain": [
              "                                                 comment  rating\n",
              "0                        Приятный вкус, мне понравилось.     5.0\n",
              "1      Год урожая 2022, дата розлива 27.09.23. Ранее ...     2.0\n",
              "2      Покупала на новый год ,была разочарована сильн...     2.0\n",
              "3              Покупаем это вино постоянно,нам нравится.     5.0\n",
              "4      Сладковатый вкус, взвешенные частички, осадок....     3.0\n",
              "...                                                  ...     ...\n",
              "16333  Мондоро это бренд.Тут и говорить нечего.Никаки...     4.5\n",
              "16334  Почитав отзывы ожидал большего... Напомнило вк...     3.0\n",
              "16335  Никакого фруктового оттенка,кислятина за 200р....     1.0\n",
              "16336         Очень понравилось Мондоро Брют! Рекомендую     5.0\n",
              "16337  Невероятный мягкий вкус. Ранее брют всегда был...     5.0\n",
              "\n",
              "[16336 rows x 2 columns]"
            ],
            "text/html": [
              "\n",
              "  <div id=\"df-48f47fe4-2daf-46f1-ad0a-c77c2f2dabc1\" class=\"colab-df-container\">\n",
              "    <div>\n",
              "<style scoped>\n",
              "    .dataframe tbody tr th:only-of-type {\n",
              "        vertical-align: middle;\n",
              "    }\n",
              "\n",
              "    .dataframe tbody tr th {\n",
              "        vertical-align: top;\n",
              "    }\n",
              "\n",
              "    .dataframe thead th {\n",
              "        text-align: right;\n",
              "    }\n",
              "</style>\n",
              "<table border=\"1\" class=\"dataframe\">\n",
              "  <thead>\n",
              "    <tr style=\"text-align: right;\">\n",
              "      <th></th>\n",
              "      <th>comment</th>\n",
              "      <th>rating</th>\n",
              "    </tr>\n",
              "  </thead>\n",
              "  <tbody>\n",
              "    <tr>\n",
              "      <th>0</th>\n",
              "      <td>Приятный вкус, мне понравилось.</td>\n",
              "      <td>5.0</td>\n",
              "    </tr>\n",
              "    <tr>\n",
              "      <th>1</th>\n",
              "      <td>Год урожая 2022, дата розлива 27.09.23. Ранее ...</td>\n",
              "      <td>2.0</td>\n",
              "    </tr>\n",
              "    <tr>\n",
              "      <th>2</th>\n",
              "      <td>Покупала на новый год ,была разочарована сильн...</td>\n",
              "      <td>2.0</td>\n",
              "    </tr>\n",
              "    <tr>\n",
              "      <th>3</th>\n",
              "      <td>Покупаем это вино постоянно,нам нравится.</td>\n",
              "      <td>5.0</td>\n",
              "    </tr>\n",
              "    <tr>\n",
              "      <th>4</th>\n",
              "      <td>Сладковатый вкус, взвешенные частички, осадок....</td>\n",
              "      <td>3.0</td>\n",
              "    </tr>\n",
              "    <tr>\n",
              "      <th>...</th>\n",
              "      <td>...</td>\n",
              "      <td>...</td>\n",
              "    </tr>\n",
              "    <tr>\n",
              "      <th>16333</th>\n",
              "      <td>Мондоро это бренд.Тут и говорить нечего.Никаки...</td>\n",
              "      <td>4.5</td>\n",
              "    </tr>\n",
              "    <tr>\n",
              "      <th>16334</th>\n",
              "      <td>Почитав отзывы ожидал большего... Напомнило вк...</td>\n",
              "      <td>3.0</td>\n",
              "    </tr>\n",
              "    <tr>\n",
              "      <th>16335</th>\n",
              "      <td>Никакого фруктового оттенка,кислятина за 200р....</td>\n",
              "      <td>1.0</td>\n",
              "    </tr>\n",
              "    <tr>\n",
              "      <th>16336</th>\n",
              "      <td>Очень понравилось Мондоро Брют! Рекомендую</td>\n",
              "      <td>5.0</td>\n",
              "    </tr>\n",
              "    <tr>\n",
              "      <th>16337</th>\n",
              "      <td>Невероятный мягкий вкус. Ранее брют всегда был...</td>\n",
              "      <td>5.0</td>\n",
              "    </tr>\n",
              "  </tbody>\n",
              "</table>\n",
              "<p>16336 rows × 2 columns</p>\n",
              "</div>\n",
              "    <div class=\"colab-df-buttons\">\n",
              "\n",
              "  <div class=\"colab-df-container\">\n",
              "    <button class=\"colab-df-convert\" onclick=\"convertToInteractive('df-48f47fe4-2daf-46f1-ad0a-c77c2f2dabc1')\"\n",
              "            title=\"Convert this dataframe to an interactive table.\"\n",
              "            style=\"display:none;\">\n",
              "\n",
              "  <svg xmlns=\"http://www.w3.org/2000/svg\" height=\"24px\" viewBox=\"0 -960 960 960\">\n",
              "    <path d=\"M120-120v-720h720v720H120Zm60-500h600v-160H180v160Zm220 220h160v-160H400v160Zm0 220h160v-160H400v160ZM180-400h160v-160H180v160Zm440 0h160v-160H620v160ZM180-180h160v-160H180v160Zm440 0h160v-160H620v160Z\"/>\n",
              "  </svg>\n",
              "    </button>\n",
              "\n",
              "  <style>\n",
              "    .colab-df-container {\n",
              "      display:flex;\n",
              "      gap: 12px;\n",
              "    }\n",
              "\n",
              "    .colab-df-convert {\n",
              "      background-color: #E8F0FE;\n",
              "      border: none;\n",
              "      border-radius: 50%;\n",
              "      cursor: pointer;\n",
              "      display: none;\n",
              "      fill: #1967D2;\n",
              "      height: 32px;\n",
              "      padding: 0 0 0 0;\n",
              "      width: 32px;\n",
              "    }\n",
              "\n",
              "    .colab-df-convert:hover {\n",
              "      background-color: #E2EBFA;\n",
              "      box-shadow: 0px 1px 2px rgba(60, 64, 67, 0.3), 0px 1px 3px 1px rgba(60, 64, 67, 0.15);\n",
              "      fill: #174EA6;\n",
              "    }\n",
              "\n",
              "    .colab-df-buttons div {\n",
              "      margin-bottom: 4px;\n",
              "    }\n",
              "\n",
              "    [theme=dark] .colab-df-convert {\n",
              "      background-color: #3B4455;\n",
              "      fill: #D2E3FC;\n",
              "    }\n",
              "\n",
              "    [theme=dark] .colab-df-convert:hover {\n",
              "      background-color: #434B5C;\n",
              "      box-shadow: 0px 1px 3px 1px rgba(0, 0, 0, 0.15);\n",
              "      filter: drop-shadow(0px 1px 2px rgba(0, 0, 0, 0.3));\n",
              "      fill: #FFFFFF;\n",
              "    }\n",
              "  </style>\n",
              "\n",
              "    <script>\n",
              "      const buttonEl =\n",
              "        document.querySelector('#df-48f47fe4-2daf-46f1-ad0a-c77c2f2dabc1 button.colab-df-convert');\n",
              "      buttonEl.style.display =\n",
              "        google.colab.kernel.accessAllowed ? 'block' : 'none';\n",
              "\n",
              "      async function convertToInteractive(key) {\n",
              "        const element = document.querySelector('#df-48f47fe4-2daf-46f1-ad0a-c77c2f2dabc1');\n",
              "        const dataTable =\n",
              "          await google.colab.kernel.invokeFunction('convertToInteractive',\n",
              "                                                    [key], {});\n",
              "        if (!dataTable) return;\n",
              "\n",
              "        const docLinkHtml = 'Like what you see? Visit the ' +\n",
              "          '<a target=\"_blank\" href=https://colab.research.google.com/notebooks/data_table.ipynb>data table notebook</a>'\n",
              "          + ' to learn more about interactive tables.';\n",
              "        element.innerHTML = '';\n",
              "        dataTable['output_type'] = 'display_data';\n",
              "        await google.colab.output.renderOutput(dataTable, element);\n",
              "        const docLink = document.createElement('div');\n",
              "        docLink.innerHTML = docLinkHtml;\n",
              "        element.appendChild(docLink);\n",
              "      }\n",
              "    </script>\n",
              "  </div>\n",
              "\n",
              "\n",
              "<div id=\"df-15b8ad1d-7ca9-43ef-ac24-82373155aa79\">\n",
              "  <button class=\"colab-df-quickchart\" onclick=\"quickchart('df-15b8ad1d-7ca9-43ef-ac24-82373155aa79')\"\n",
              "            title=\"Suggest charts\"\n",
              "            style=\"display:none;\">\n",
              "\n",
              "<svg xmlns=\"http://www.w3.org/2000/svg\" height=\"24px\"viewBox=\"0 0 24 24\"\n",
              "     width=\"24px\">\n",
              "    <g>\n",
              "        <path d=\"M19 3H5c-1.1 0-2 .9-2 2v14c0 1.1.9 2 2 2h14c1.1 0 2-.9 2-2V5c0-1.1-.9-2-2-2zM9 17H7v-7h2v7zm4 0h-2V7h2v10zm4 0h-2v-4h2v4z\"/>\n",
              "    </g>\n",
              "</svg>\n",
              "  </button>\n",
              "\n",
              "<style>\n",
              "  .colab-df-quickchart {\n",
              "      --bg-color: #E8F0FE;\n",
              "      --fill-color: #1967D2;\n",
              "      --hover-bg-color: #E2EBFA;\n",
              "      --hover-fill-color: #174EA6;\n",
              "      --disabled-fill-color: #AAA;\n",
              "      --disabled-bg-color: #DDD;\n",
              "  }\n",
              "\n",
              "  [theme=dark] .colab-df-quickchart {\n",
              "      --bg-color: #3B4455;\n",
              "      --fill-color: #D2E3FC;\n",
              "      --hover-bg-color: #434B5C;\n",
              "      --hover-fill-color: #FFFFFF;\n",
              "      --disabled-bg-color: #3B4455;\n",
              "      --disabled-fill-color: #666;\n",
              "  }\n",
              "\n",
              "  .colab-df-quickchart {\n",
              "    background-color: var(--bg-color);\n",
              "    border: none;\n",
              "    border-radius: 50%;\n",
              "    cursor: pointer;\n",
              "    display: none;\n",
              "    fill: var(--fill-color);\n",
              "    height: 32px;\n",
              "    padding: 0;\n",
              "    width: 32px;\n",
              "  }\n",
              "\n",
              "  .colab-df-quickchart:hover {\n",
              "    background-color: var(--hover-bg-color);\n",
              "    box-shadow: 0 1px 2px rgba(60, 64, 67, 0.3), 0 1px 3px 1px rgba(60, 64, 67, 0.15);\n",
              "    fill: var(--button-hover-fill-color);\n",
              "  }\n",
              "\n",
              "  .colab-df-quickchart-complete:disabled,\n",
              "  .colab-df-quickchart-complete:disabled:hover {\n",
              "    background-color: var(--disabled-bg-color);\n",
              "    fill: var(--disabled-fill-color);\n",
              "    box-shadow: none;\n",
              "  }\n",
              "\n",
              "  .colab-df-spinner {\n",
              "    border: 2px solid var(--fill-color);\n",
              "    border-color: transparent;\n",
              "    border-bottom-color: var(--fill-color);\n",
              "    animation:\n",
              "      spin 1s steps(1) infinite;\n",
              "  }\n",
              "\n",
              "  @keyframes spin {\n",
              "    0% {\n",
              "      border-color: transparent;\n",
              "      border-bottom-color: var(--fill-color);\n",
              "      border-left-color: var(--fill-color);\n",
              "    }\n",
              "    20% {\n",
              "      border-color: transparent;\n",
              "      border-left-color: var(--fill-color);\n",
              "      border-top-color: var(--fill-color);\n",
              "    }\n",
              "    30% {\n",
              "      border-color: transparent;\n",
              "      border-left-color: var(--fill-color);\n",
              "      border-top-color: var(--fill-color);\n",
              "      border-right-color: var(--fill-color);\n",
              "    }\n",
              "    40% {\n",
              "      border-color: transparent;\n",
              "      border-right-color: var(--fill-color);\n",
              "      border-top-color: var(--fill-color);\n",
              "    }\n",
              "    60% {\n",
              "      border-color: transparent;\n",
              "      border-right-color: var(--fill-color);\n",
              "    }\n",
              "    80% {\n",
              "      border-color: transparent;\n",
              "      border-right-color: var(--fill-color);\n",
              "      border-bottom-color: var(--fill-color);\n",
              "    }\n",
              "    90% {\n",
              "      border-color: transparent;\n",
              "      border-bottom-color: var(--fill-color);\n",
              "    }\n",
              "  }\n",
              "</style>\n",
              "\n",
              "  <script>\n",
              "    async function quickchart(key) {\n",
              "      const quickchartButtonEl =\n",
              "        document.querySelector('#' + key + ' button');\n",
              "      quickchartButtonEl.disabled = true;  // To prevent multiple clicks.\n",
              "      quickchartButtonEl.classList.add('colab-df-spinner');\n",
              "      try {\n",
              "        const charts = await google.colab.kernel.invokeFunction(\n",
              "            'suggestCharts', [key], {});\n",
              "      } catch (error) {\n",
              "        console.error('Error during call to suggestCharts:', error);\n",
              "      }\n",
              "      quickchartButtonEl.classList.remove('colab-df-spinner');\n",
              "      quickchartButtonEl.classList.add('colab-df-quickchart-complete');\n",
              "    }\n",
              "    (() => {\n",
              "      let quickchartButtonEl =\n",
              "        document.querySelector('#df-15b8ad1d-7ca9-43ef-ac24-82373155aa79 button');\n",
              "      quickchartButtonEl.style.display =\n",
              "        google.colab.kernel.accessAllowed ? 'block' : 'none';\n",
              "    })();\n",
              "  </script>\n",
              "</div>\n",
              "    </div>\n",
              "  </div>\n"
            ],
            "application/vnd.google.colaboratory.intrinsic+json": {
              "type": "dataframe",
              "variable_name": "df",
              "summary": "{\n  \"name\": \"df\",\n  \"rows\": 16336,\n  \"fields\": [\n    {\n      \"column\": \"comment\",\n      \"properties\": {\n        \"dtype\": \"string\",\n        \"num_unique_values\": 15257,\n        \"samples\": [\n          \"\\u041d\\u0435\\u0432\\u043a\\u0443\\u0441\\u043d\\u043e, \\u0441\\u0438\\u043b\\u044c\\u043d\\u043e \\u0447\\u0443\\u0432\\u0441\\u0442\\u0432\\u0443\\u0435\\u0442\\u0441\\u044f \\u0441\\u043f\\u0438\\u0440\\u0442\",\n          \"\\u0414\\u043e\\u0441\\u0442\\u043e\\u0439\\u043d\\u043e\\u0435 \\u043a\\u0440\\u0430\\u0441\\u043d\\u043e\\u0435 \\u0432\\u0438\\u043d\\u043e, \\u043f\\u0440\\u0435\\u043a\\u0440\\u0430\\u0441\\u043d\\u043e \\u043f\\u043e\\u0434 \\u0448\\u0430\\u0448\\u043b\\u044b\\u0447\\u043e\\u043a. \\u041d\\u0435 \\u0441\\u043e\\u0433\\u043b\\u0430\\u0441\\u043d\\u0430 \\u0441 \\u043f\\u0440\\u0435\\u0434\\u044b\\u0434\\u0443\\u0449\\u0438\\u043c\\u0438 \\u043e\\u0442\\u0437\\u044b\\u0432\\u0430\\u043c\\u0438. \\u041d\\u0438\\u043a\\u0430\\u043a\\u043e\\u0439 \\u0433\\u043e\\u0440\\u0435\\u0447\\u0438. \\u041a\\u043b\\u0430\\u0441\\u0441\\u0438\\u043a\\u0430 \\u0432\\u043e \\u0432\\u043a\\u0443\\u0441\\u0435.\",\n          \"\\u0425\\u043e\\u0440\\u043e\\u0448\\u0435\\u0435 \\u0432\\u0438\\u043d\\u043e, \\u0445\\u043c\\u0435\\u043b\\u044c \\u043b\\u0451\\u0433\\u043a\\u0438\\u0439, \\u043a\\u0430\\u043a \\\"\\u0431\\u0443\\u043d\\u0438\\u043d\\u0441\\u043a\\u043e\\u0435\\\" \\u0434\\u044b\\u0445\\u0430\\u043d\\u0438\\u0435!\"\n        ],\n        \"semantic_type\": \"\",\n        \"description\": \"\"\n      }\n    },\n    {\n      \"column\": \"rating\",\n      \"properties\": {\n        \"dtype\": \"number\",\n        \"std\": 1.4331177707759102,\n        \"min\": 0.5,\n        \"max\": 5.0,\n        \"num_unique_values\": 10,\n        \"samples\": [\n          1.5,\n          2.0,\n          1.0\n        ],\n        \"semantic_type\": \"\",\n        \"description\": \"\"\n      }\n    }\n  ]\n}"
            }
          },
          "metadata": {},
          "execution_count": 194
        }
      ],
      "source": [
        "import numpy as np\n",
        "import pandas as pd\n",
        "\n",
        "df = pd.read_csv(\"data_comms.csv\")\n",
        "df = df.drop('Unnamed: 0', axis=1)\n",
        "df = df.dropna()\n",
        "df"
      ]
    },
    {
      "source": [
        "from matplotlib import pyplot as plt\n",
        "df['rating'].plot(kind='hist', bins=20, title='rating')\n",
        "plt.gca().spines[['top', 'right',]].set_visible(False)"
      ],
      "cell_type": "code",
      "execution_count": 195,
      "outputs": [
        {
          "output_type": "display_data",
          "data": {
            "text/plain": [
              "<Figure size 640x480 with 1 Axes>"
            ],
            "image/png": "[encoded data removed]"
          },
          "metadata": {}
        }
      ],
      "metadata": {
        "colab": {
          "base_uri": "https://localhost:8080/",
          "height": 452
        },
        "id": "G5xSpkIcYrrF",
        "outputId": "3f21f739-08ed-494d-bf8c-ecd34b247781"
      }
    },
    {
      "cell_type": "markdown",
      "source": [
        "На гистограмме видим, что комментариев с оценкой *.5 совсем мало. В целом нам эта точность между ценками в 0.5 неважна, так что округлим эти значения в большную сторону."
      ],
      "metadata": {
        "id": "_XI8EoIZYxDr"
      }
    },
    {
      "cell_type": "code",
      "source": [
        "import math\n",
        "df['rating'] = df['rating'].apply(math.ceil)\n",
        "df['rating'].plot(kind='hist', bins=20, title='rating')\n",
        "plt.gca().spines[['top', 'right',]].set_visible(False)"
      ],
      "metadata": {
        "colab": {
          "base_uri": "https://localhost:8080/",
          "height": 452
        },
        "id": "9_v1KP5CZKOY",
        "outputId": "3ba3d457-8f78-41e5-8c3a-0aa15fecbf9c"
      },
      "execution_count": 196,
      "outputs": [
        {
          "output_type": "display_data",
          "data": {
            "text/plain": [
              "<Figure size 640x480 with 1 Axes>"
            ],
            "image/png": "[encoded data removed]"
          },
          "metadata": {}
        }
      ]
    },
    {
      "cell_type": "markdown",
      "source": [
        "Всё ещё плохо, давайте попробуем оверсемплить."
      ],
      "metadata": {
        "id": "I6In55PLNZjC"
      }
    },
    {
      "cell_type": "code",
      "source": [
        "for i in range(1, 5):\n",
        "  df_ = df.query(f\"rating == {i}\")\n",
        "  #print(i, len(df_.axes[0]))\n",
        "  df = pd.concat([df, df_, df_, df_], ignore_index=True)\n",
        "\n",
        "\n",
        "df['rating'].plot(kind='hist', bins=20, title='rating')\n",
        "plt.gca().spines[['top', 'right',]].set_visible(False)"
      ],
      "metadata": {
        "colab": {
          "base_uri": "https://localhost:8080/",
          "height": 452
        },
        "id": "O2pUTrkgIOpf",
        "outputId": "da6dbe14-03ee-4360-b62e-94690f7067ba"
      },
      "execution_count": 197,
      "outputs": [
        {
          "output_type": "display_data",
          "data": {
            "text/plain": [
              "<Figure size 640x480 with 1 Axes>"
            ],
            "image/png": "[encoded data removed]"
          },
          "metadata": {}
        }
      ]
    },
    {
      "cell_type": "markdown",
      "source": [
        "Теперь удалим стоп-слова, применим стемминг."
      ],
      "metadata": {
        "id": "Vlf8owH8NoAz"
      }
    },
    {
      "cell_type": "code",
      "source": [
        "import nltk\n",
        "from nltk import stem\n",
        "from nltk.corpus import stopwords\n",
        "import re\n",
        "import validators\n",
        "\n",
        "nltk.download(\"stopwords\")\n",
        "stemmer = stem.SnowballStemmer('russian')\n",
        "stopwords = set(stopwords.words('russian'))\n",
        "\n",
        "def preprocess(text):\n",
        "  try:\n",
        "    text = text.lower()\n",
        "    copy = text\n",
        "    text = []\n",
        "    copy = copy.split(\" \")\n",
        "    for word in copy:\n",
        "      if not validators.url(word) and word[0] != '#':\n",
        "        word = re.sub(r'[^\\w\\s]', '', word)\n",
        "        if (word not in stopwords) and (word.isalpha()):\n",
        "          text.append(stemmer.stem(word))\n",
        "    text = (' '.join(text))\n",
        "    return text\n",
        "  except Exception as e:\n",
        "    print(e)\n",
        "    print(text)\n",
        "\n",
        "text = df.iloc[1]['comment']\n",
        "print(text)\n",
        "preprocess(text)"
      ],
      "metadata": {
        "colab": {
          "base_uri": "https://localhost:8080/",
          "height": 142
        },
        "id": "Wu3Ljk6XRczs",
        "outputId": "d434a57a-dc60-4c58-d4a7-2c3f56ab642e"
      },
      "execution_count": 198,
      "outputs": [
        {
          "output_type": "stream",
          "name": "stdout",
          "text": [
            "Год урожая 2022, дата розлива 27.09.23. Ранее использовали Саперави из Прикумья Юга Ставропольского края, розлив Адыгея - был вполне достойный напиток. Сейчас виноматериал Саперави указаный на контэтикетке: Краснодарский и Ставропольский края, Крым (на сайте КиБ Прикумье, обман), розлв Адыгея. Мутная, спиртово-горькая жижа, ни носа ни вкуса НЕТ совсем.\n"
          ]
        },
        {
          "output_type": "stream",
          "name": "stderr",
          "text": [
            "[nltk_data] Downloading package stopwords to /root/nltk_data...\n",
            "[nltk_data]   Package stopwords is already up-to-date!\n"
          ]
        },
        {
          "output_type": "execute_result",
          "data": {
            "text/plain": [
              "'год урож дат розлив ран использова саперав прикум юг ставропольск кра розл адыге вполн достойн напиток виноматериа саперав указан контэтикетк краснодарск ставропольск кра крым сайт киб прикум обма розлв адыге мутн спиртовогорьк жиж нос вкус'"
            ],
            "application/vnd.google.colaboratory.intrinsic+json": {
              "type": "string"
            }
          },
          "metadata": {},
          "execution_count": 198
        }
      ]
    },
    {
      "cell_type": "code",
      "source": [
        "df['comment'] = df['comment'].apply(preprocess)\n",
        "df"
      ],
      "metadata": {
        "colab": {
          "base_uri": "https://localhost:8080/",
          "height": 423
        },
        "id": "A1q_RjOFSd_2",
        "outputId": "7a998823-cc72-48c4-ae51-0c6eba9a3de8"
      },
      "execution_count": 199,
      "outputs": [
        {
          "output_type": "execute_result",
          "data": {
            "text/plain": [
              "                                                 comment  rating\n",
              "0                                     приятн вкус понрав       5\n",
              "1      год урож дат розлив ран использова саперав при...       2\n",
              "2      покупа нов год разочарова сильнопарт плох видн...       2\n",
              "3                          покупа эт вин постояннон нрав       5\n",
              "4      сладковат вкус взвешен частичк осадок пьет лег...       3\n",
              "...                                                  ...     ...\n",
              "32765  общемт неплох напиток пит хот итальянск игрист...       4\n",
              "32766  помн лет мор пил вин местн так доброд кондиц с...       4\n",
              "32767  сво ценов категор довольн плох пузырьк прям за...       4\n",
              "32768                              плох вкус голов болел       4\n",
              "32769                               понрав неплох игрист       4\n",
              "\n",
              "[32770 rows x 2 columns]"
            ],
            "text/html": [
              "\n",
              "  <div id=\"df-d0237aca-47e9-468d-8a0d-e3e1486d24fa\" class=\"colab-df-container\">\n",
              "    <div>\n",
              "<style scoped>\n",
              "    .dataframe tbody tr th:only-of-type {\n",
              "        vertical-align: middle;\n",
              "    }\n",
              "\n",
              "    .dataframe tbody tr th {\n",
              "        vertical-align: top;\n",
              "    }\n",
              "\n",
              "    .dataframe thead th {\n",
              "        text-align: right;\n",
              "    }\n",
              "</style>\n",
              "<table border=\"1\" class=\"dataframe\">\n",
              "  <thead>\n",
              "    <tr style=\"text-align: right;\">\n",
              "      <th></th>\n",
              "      <th>comment</th>\n",
              "      <th>rating</th>\n",
              "    </tr>\n",
              "  </thead>\n",
              "  <tbody>\n",
              "    <tr>\n",
              "      <th>0</th>\n",
              "      <td>приятн вкус понрав</td>\n",
              "      <td>5</td>\n",
              "    </tr>\n",
              "    <tr>\n",
              "      <th>1</th>\n",
              "      <td>год урож дат розлив ран использова саперав при...</td>\n",
              "      <td>2</td>\n",
              "    </tr>\n",
              "    <tr>\n",
              "      <th>2</th>\n",
              "      <td>покупа нов год разочарова сильнопарт плох видн...</td>\n",
              "      <td>2</td>\n",
              "    </tr>\n",
              "    <tr>\n",
              "      <th>3</th>\n",
              "      <td>покупа эт вин постояннон нрав</td>\n",
              "      <td>5</td>\n",
              "    </tr>\n",
              "    <tr>\n",
              "      <th>4</th>\n",
              "      <td>сладковат вкус взвешен частичк осадок пьет лег...</td>\n",
              "      <td>3</td>\n",
              "    </tr>\n",
              "    <tr>\n",
              "      <th>...</th>\n",
              "      <td>...</td>\n",
              "      <td>...</td>\n",
              "    </tr>\n",
              "    <tr>\n",
              "      <th>32765</th>\n",
              "      <td>общемт неплох напиток пит хот итальянск игрист...</td>\n",
              "      <td>4</td>\n",
              "    </tr>\n",
              "    <tr>\n",
              "      <th>32766</th>\n",
              "      <td>помн лет мор пил вин местн так доброд кондиц с...</td>\n",
              "      <td>4</td>\n",
              "    </tr>\n",
              "    <tr>\n",
              "      <th>32767</th>\n",
              "      <td>сво ценов категор довольн плох пузырьк прям за...</td>\n",
              "      <td>4</td>\n",
              "    </tr>\n",
              "    <tr>\n",
              "      <th>32768</th>\n",
              "      <td>плох вкус голов болел</td>\n",
              "      <td>4</td>\n",
              "    </tr>\n",
              "    <tr>\n",
              "      <th>32769</th>\n",
              "      <td>понрав неплох игрист</td>\n",
              "      <td>4</td>\n",
              "    </tr>\n",
              "  </tbody>\n",
              "</table>\n",
              "<p>32770 rows × 2 columns</p>\n",
              "</div>\n",
              "    <div class=\"colab-df-buttons\">\n",
              "\n",
              "  <div class=\"colab-df-container\">\n",
              "    <button class=\"colab-df-convert\" onclick=\"convertToInteractive('df-d0237aca-47e9-468d-8a0d-e3e1486d24fa')\"\n",
              "            title=\"Convert this dataframe to an interactive table.\"\n",
              "            style=\"display:none;\">\n",
              "\n",
              "  <svg xmlns=\"http://www.w3.org/2000/svg\" height=\"24px\" viewBox=\"0 -960 960 960\">\n",
              "    <path d=\"M120-120v-720h720v720H120Zm60-500h600v-160H180v160Zm220 220h160v-160H400v160Zm0 220h160v-160H400v160ZM180-400h160v-160H180v160Zm440 0h160v-160H620v160ZM180-180h160v-160H180v160Zm440 0h160v-160H620v160Z\"/>\n",
              "  </svg>\n",
              "    </button>\n",
              "\n",
              "  <style>\n",
              "    .colab-df-container {\n",
              "      display:flex;\n",
              "      gap: 12px;\n",
              "    }\n",
              "\n",
              "    .colab-df-convert {\n",
              "      background-color: #E8F0FE;\n",
              "      border: none;\n",
              "      border-radius: 50%;\n",
              "      cursor: pointer;\n",
              "      display: none;\n",
              "      fill: #1967D2;\n",
              "      height: 32px;\n",
              "      padding: 0 0 0 0;\n",
              "      width: 32px;\n",
              "    }\n",
              "\n",
              "    .colab-df-convert:hover {\n",
              "      background-color: #E2EBFA;\n",
              "      box-shadow: 0px 1px 2px rgba(60, 64, 67, 0.3), 0px 1px 3px 1px rgba(60, 64, 67, 0.15);\n",
              "      fill: #174EA6;\n",
              "    }\n",
              "\n",
              "    .colab-df-buttons div {\n",
              "      margin-bottom: 4px;\n",
              "    }\n",
              "\n",
              "    [theme=dark] .colab-df-convert {\n",
              "      background-color: #3B4455;\n",
              "      fill: #D2E3FC;\n",
              "    }\n",
              "\n",
              "    [theme=dark] .colab-df-convert:hover {\n",
              "      background-color: #434B5C;\n",
              "      box-shadow: 0px 1px 3px 1px rgba(0, 0, 0, 0.15);\n",
              "      filter: drop-shadow(0px 1px 2px rgba(0, 0, 0, 0.3));\n",
              "      fill: #FFFFFF;\n",
              "    }\n",
              "  </style>\n",
              "\n",
              "    <script>\n",
              "      const buttonEl =\n",
              "        document.querySelector('#df-d0237aca-47e9-468d-8a0d-e3e1486d24fa button.colab-df-convert');\n",
              "      buttonEl.style.display =\n",
              "        google.colab.kernel.accessAllowed ? 'block' : 'none';\n",
              "\n",
              "      async function convertToInteractive(key) {\n",
              "        const element = document.querySelector('#df-d0237aca-47e9-468d-8a0d-e3e1486d24fa');\n",
              "        const dataTable =\n",
              "          await google.colab.kernel.invokeFunction('convertToInteractive',\n",
              "                                                    [key], {});\n",
              "        if (!dataTable) return;\n",
              "\n",
              "        const docLinkHtml = 'Like what you see? Visit the ' +\n",
              "          '<a target=\"_blank\" href=https://colab.research.google.com/notebooks/data_table.ipynb>data table notebook</a>'\n",
              "          + ' to learn more about interactive tables.';\n",
              "        element.innerHTML = '';\n",
              "        dataTable['output_type'] = 'display_data';\n",
              "        await google.colab.output.renderOutput(dataTable, element);\n",
              "        const docLink = document.createElement('div');\n",
              "        docLink.innerHTML = docLinkHtml;\n",
              "        element.appendChild(docLink);\n",
              "      }\n",
              "    </script>\n",
              "  </div>\n",
              "\n",
              "\n",
              "<div id=\"df-49d9704e-9543-4fbf-a77e-14088d33030a\">\n",
              "  <button class=\"colab-df-quickchart\" onclick=\"quickchart('df-49d9704e-9543-4fbf-a77e-14088d33030a')\"\n",
              "            title=\"Suggest charts\"\n",
              "            style=\"display:none;\">\n",
              "\n",
              "<svg xmlns=\"http://www.w3.org/2000/svg\" height=\"24px\"viewBox=\"0 0 24 24\"\n",
              "     width=\"24px\">\n",
              "    <g>\n",
              "        <path d=\"M19 3H5c-1.1 0-2 .9-2 2v14c0 1.1.9 2 2 2h14c1.1 0 2-.9 2-2V5c0-1.1-.9-2-2-2zM9 17H7v-7h2v7zm4 0h-2V7h2v10zm4 0h-2v-4h2v4z\"/>\n",
              "    </g>\n",
              "</svg>\n",
              "  </button>\n",
              "\n",
              "<style>\n",
              "  .colab-df-quickchart {\n",
              "      --bg-color: #E8F0FE;\n",
              "      --fill-color: #1967D2;\n",
              "      --hover-bg-color: #E2EBFA;\n",
              "      --hover-fill-color: #174EA6;\n",
              "      --disabled-fill-color: #AAA;\n",
              "      --disabled-bg-color: #DDD;\n",
              "  }\n",
              "\n",
              "  [theme=dark] .colab-df-quickchart {\n",
              "      --bg-color: #3B4455;\n",
              "      --fill-color: #D2E3FC;\n",
              "      --hover-bg-color: #434B5C;\n",
              "      --hover-fill-color: #FFFFFF;\n",
              "      --disabled-bg-color: #3B4455;\n",
              "      --disabled-fill-color: #666;\n",
              "  }\n",
              "\n",
              "  .colab-df-quickchart {\n",
              "    background-color: var(--bg-color);\n",
              "    border: none;\n",
              "    border-radius: 50%;\n",
              "    cursor: pointer;\n",
              "    display: none;\n",
              "    fill: var(--fill-color);\n",
              "    height: 32px;\n",
              "    padding: 0;\n",
              "    width: 32px;\n",
              "  }\n",
              "\n",
              "  .colab-df-quickchart:hover {\n",
              "    background-color: var(--hover-bg-color);\n",
              "    box-shadow: 0 1px 2px rgba(60, 64, 67, 0.3), 0 1px 3px 1px rgba(60, 64, 67, 0.15);\n",
              "    fill: var(--button-hover-fill-color);\n",
              "  }\n",
              "\n",
              "  .colab-df-quickchart-complete:disabled,\n",
              "  .colab-df-quickchart-complete:disabled:hover {\n",
              "    background-color: var(--disabled-bg-color);\n",
              "    fill: var(--disabled-fill-color);\n",
              "    box-shadow: none;\n",
              "  }\n",
              "\n",
              "  .colab-df-spinner {\n",
              "    border: 2px solid var(--fill-color);\n",
              "    border-color: transparent;\n",
              "    border-bottom-color: var(--fill-color);\n",
              "    animation:\n",
              "      spin 1s steps(1) infinite;\n",
              "  }\n",
              "\n",
              "  @keyframes spin {\n",
              "    0% {\n",
              "      border-color: transparent;\n",
              "      border-bottom-color: var(--fill-color);\n",
              "      border-left-color: var(--fill-color);\n",
              "    }\n",
              "    20% {\n",
              "      border-color: transparent;\n",
              "      border-left-color: var(--fill-color);\n",
              "      border-top-color: var(--fill-color);\n",
              "    }\n",
              "    30% {\n",
              "      border-color: transparent;\n",
              "      border-left-color: var(--fill-color);\n",
              "      border-top-color: var(--fill-color);\n",
              "      border-right-color: var(--fill-color);\n",
              "    }\n",
              "    40% {\n",
              "      border-color: transparent;\n",
              "      border-right-color: var(--fill-color);\n",
              "      border-top-color: var(--fill-color);\n",
              "    }\n",
              "    60% {\n",
              "      border-color: transparent;\n",
              "      border-right-color: var(--fill-color);\n",
              "    }\n",
              "    80% {\n",
              "      border-color: transparent;\n",
              "      border-right-color: var(--fill-color);\n",
              "      border-bottom-color: var(--fill-color);\n",
              "    }\n",
              "    90% {\n",
              "      border-color: transparent;\n",
              "      border-bottom-color: var(--fill-color);\n",
              "    }\n",
              "  }\n",
              "</style>\n",
              "\n",
              "  <script>\n",
              "    async function quickchart(key) {\n",
              "      const quickchartButtonEl =\n",
              "        document.querySelector('#' + key + ' button');\n",
              "      quickchartButtonEl.disabled = true;  // To prevent multiple clicks.\n",
              "      quickchartButtonEl.classList.add('colab-df-spinner');\n",
              "      try {\n",
              "        const charts = await google.colab.kernel.invokeFunction(\n",
              "            'suggestCharts', [key], {});\n",
              "      } catch (error) {\n",
              "        console.error('Error during call to suggestCharts:', error);\n",
              "      }\n",
              "      quickchartButtonEl.classList.remove('colab-df-spinner');\n",
              "      quickchartButtonEl.classList.add('colab-df-quickchart-complete');\n",
              "    }\n",
              "    (() => {\n",
              "      let quickchartButtonEl =\n",
              "        document.querySelector('#df-49d9704e-9543-4fbf-a77e-14088d33030a button');\n",
              "      quickchartButtonEl.style.display =\n",
              "        google.colab.kernel.accessAllowed ? 'block' : 'none';\n",
              "    })();\n",
              "  </script>\n",
              "</div>\n",
              "    </div>\n",
              "  </div>\n"
            ],
            "application/vnd.google.colaboratory.intrinsic+json": {
              "type": "dataframe",
              "variable_name": "df",
              "summary": "{\n  \"name\": \"df\",\n  \"rows\": 32770,\n  \"fields\": [\n    {\n      \"column\": \"comment\",\n      \"properties\": {\n        \"dtype\": \"category\",\n        \"num_unique_values\": 14524,\n        \"samples\": [\n          \"\\u043f\\u043e\\u043c\\u0435\\u043d\\u044f \\u0432\\u043a\\u0443\\u0441 \\u0440\\u0430\\u043d\\u044c\\u0448 \\u0441\\u0430\\u0445\\u0430\\u0440 \\u043c\\u0435\\u043d\\u044c\\u0448\",\n          \"\\u043c\\u043d\\u0435\\u0442\\u044f\\u0436\\u0435\\u043b\\u043e\\u0432\\u0430\\u0442\",\n          \"\\u043d\\u0430\\u0448 \\u043e\\u0442\\u0435\\u0447\\u0435\\u0441\\u0442\\u0432\\u0435\\u043d \\u043f\\u0440\\u0435\\u0434\\u043f\\u043e\\u0447\\u0438\\u0442\\u0430 \\u0438\\u0433\\u0440\\u0438\\u0441\\u0442 \\u0448\\u0430\\u0442 \\u0442\\u0430\\u043c\\u0430\\u043d \\u0440\\u0430\\u0437\\u043e\\u0447\\u0430\\u0440\\u043e\\u0432\\u044b\\u0432\\u0430 \\u0440\\u0430\\u0437 \\u043f\\u043e\\u043a \\u0436\\u0430\\u043b \\u0430\\u0441\\u0441\\u043e\\u0440\\u0442\\u0438\\u043c\\u0435\\u043d\\u0442 \\u043a\\u0431 \\u0431\\u0430\\u043b \\u043c\\u0438\\u043d\\u0438\\u0444\\u043e\\u0440\\u043c\\u0430\\u0442 \\u0431\\u0440\\u044e\\u0442 \\u043e\\u0447\\u0435\\u043d \\u0437\\u0434\\u043e\\u0440\\u043e\\u0432\\u0441\\u043a \\u043e\\u0431\\u044c \\u0441\\u0443\\u043c\\u043e\\u0447\\u043a \\u043e\\u0434\\u043d \\u0444\\u043e\\u0440\\u043c\\u0430\\u0442 \\u0431\\u0443\\u0434 \\u0431\\u0440\\u0430\\u0442 \\u043f\\u043e\\u0441\\u0438\\u0434\\u0435\\u043b\\u043e\\u043a \\u043f\\u043e\\u0434\\u0440\\u0443\\u0433 \\u043a\\u0431 \\u0441\\u043f\\u0440\\u043e\\u0441 \\u043f\\u0440\\u043e\\u0434\\u0430\\u0432\\u0446 \\u043f\\u043e\\u0441\\u0442\\u0430\\u0432 \\u043c\\u0438\\u043d\\u0438\\u0444\\u043e\\u0440\\u043c\\u0430\\u0442 \\u0448\\u0430\\u0442 \\u0442\\u0430\\u043c\\u0430\\u043d \\u0441\\u0447\\u0430\\u0441\\u0442 \\u043c\\u0430\\u043b\\u0435\\u043d\\u044c\\u043a \\u043f\\u0440\\u0435\\u043a\\u0440\\u0430\\u0441\\u043d\"\n        ],\n        \"semantic_type\": \"\",\n        \"description\": \"\"\n      }\n    },\n    {\n      \"column\": \"rating\",\n      \"properties\": {\n        \"dtype\": \"number\",\n        \"std\": 1,\n        \"min\": 1,\n        \"max\": 5,\n        \"num_unique_values\": 5,\n        \"samples\": [\n          2,\n          1,\n          3\n        ],\n        \"semantic_type\": \"\",\n        \"description\": \"\"\n      }\n    }\n  ]\n}"
            }
          },
          "metadata": {},
          "execution_count": 199
        }
      ]
    },
    {
      "cell_type": "markdown",
      "source": [
        "Токенизируем с помощью byte-pair encoding, чтобы сократиь размер словаря."
      ],
      "metadata": {
        "id": "7Z-QfOHlN0dJ"
      }
    },
    {
      "cell_type": "code",
      "source": [
        "from sklearn.model_selection import train_test_split\n",
        "from tokenizers import ByteLevelBPETokenizer\n",
        "\n",
        "X = df['comment']\n",
        "y = df['rating']\n",
        "\n",
        "tokenizer = ByteLevelBPETokenizer()\n",
        "tokenizer.train_from_iterator(X, vocab_size=10000, min_frequency=2)\n",
        "X = X.apply(lambda x: tokenizer.encode(x).tokens)\n",
        "X = X.apply(lambda x: \" \".join(x))"
      ],
      "metadata": {
        "id": "FIJCIrzbl6mq"
      },
      "execution_count": 200,
      "outputs": []
    },
    {
      "cell_type": "markdown",
      "source": [
        "Трансформируем строки в tgidf-вектора"
      ],
      "metadata": {
        "id": "-d-vyoU0OEms"
      }
    },
    {
      "cell_type": "code",
      "source": [
        "from sklearn.feature_extraction.text import TfidfVectorizer\n",
        "vectorizer = TfidfVectorizer()\n",
        "X = vectorizer.fit_transform(X)"
      ],
      "metadata": {
        "id": "dCUN19O6fdRS"
      },
      "execution_count": 201,
      "outputs": []
    },
    {
      "cell_type": "markdown",
      "source": [
        "Обучим линейный классификатор и выведем метрики."
      ],
      "metadata": {
        "id": "KKrmhyhBOP_r"
      }
    },
    {
      "cell_type": "code",
      "source": [
        "from sklearn.svm import LinearSVC\n",
        "from sklearn.metrics import accuracy_score, classification_report\n",
        "\n",
        "X_train, X_test, y_train, y_test = train_test_split(X, y, test_size=0.2)\n",
        "\n",
        "model = LinearSVC(multi_class=\"ovr\")\n",
        "model.fit(X=X_train, y=y_train.values)\n",
        "\n",
        "prediction = model.predict(X_test)\n",
        "print(f\"Test Set Accuracy : {accuracy_score(y_test, prediction) * 100} %\\n\\n\")\n",
        "print(f\"Classification Report : \\n\\n{classification_report(y_test, prediction)}\")"
      ],
      "metadata": {
        "colab": {
          "base_uri": "https://localhost:8080/"
        },
        "id": "_5IdSJIwTTVn",
        "outputId": "d48a8360-8ad6-4e51-e5f1-2da0b9746824"
      },
      "execution_count": 202,
      "outputs": [
        {
          "output_type": "stream",
          "name": "stdout",
          "text": [
            "Test Set Accuracy : 71.65090021361002 %\n",
            "\n",
            "\n",
            "Classification Report : \n",
            "\n",
            "              precision    recall  f1-score   support\n",
            "\n",
            "           1       0.73      0.81      0.77      1473\n",
            "           2       0.70      0.53      0.60       769\n",
            "           3       0.68      0.67      0.67       981\n",
            "           4       0.70      0.62      0.66      1108\n",
            "           5       0.74      0.79      0.76      2223\n",
            "\n",
            "    accuracy                           0.72      6554\n",
            "   macro avg       0.71      0.68      0.69      6554\n",
            "weighted avg       0.71      0.72      0.71      6554\n",
            "\n"
          ]
        }
      ]
    },
    {
      "cell_type": "markdown",
      "source": [
        "И наконец проведем кросс-валидацию, чтобы посмотреть насколько переобучается модель."
      ],
      "metadata": {
        "id": "4kdJzPZ_OZzd"
      }
    },
    {
      "cell_type": "code",
      "source": [
        "from sklearn.model_selection import ShuffleSplit\n",
        "from sklearn.model_selection import cross_validate\n",
        "\n",
        "cv = ShuffleSplit(n_splits=5, test_size=0.2)\n",
        "my_scores = cross_validate(model, X, y, cv=cv, scoring = ('balanced_accuracy', 'f1_weighted'), return_train_score=True)"
      ],
      "metadata": {
        "id": "3wlnrLCiiM53"
      },
      "execution_count": 203,
      "outputs": []
    },
    {
      "cell_type": "code",
      "source": [
        "myDf = pd.DataFrame(my_scores)\n",
        "fig = plt.figure(figsize=(20, 20))\n",
        "myDf[['test_balanced_accuracy', 'train_balanced_accuracy']].plot.hist(bins=50, ax = fig.add_subplot(3,1,1), title = \"Balanced accurancy\")\n",
        "myDf[['test_f1_weighted', 'train_f1_weighted']].plot.hist(bins=50, ax = fig.add_subplot(3,1,2), title = \"F1 weighted\")\n",
        "fig.show()"
      ],
      "metadata": {
        "colab": {
          "base_uri": "https://localhost:8080/",
          "height": 575
        },
        "id": "7jwfPeAO-QqF",
        "outputId": "d3aec601-c8ff-46da-b7bf-f08a59dc5553"
      },
      "execution_count": 204,
      "outputs": [
        {
          "output_type": "display_data",
          "data": {
            "text/plain": [
              "<Figure size 2000x2000 with 2 Axes>"
            ],
            "image/png": "[encoded data removed]"
          },
          "metadata": {}
        }
      ]
    },
    {
      "cell_type": "markdown",
      "source": [
        "Как видно по гистограммам немного переобучения присутствует, но в целом разница метрик небольшая."
      ],
      "metadata": {
        "id": "06RE_HI7Md3U"
      }
    }
  ]
}